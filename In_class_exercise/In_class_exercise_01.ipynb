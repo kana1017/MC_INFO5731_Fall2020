{
  "nbformat": 4,
  "nbformat_minor": 0,
  "metadata": {
    "colab": {
      "name": "In_class_exercise_01.ipynb",
      "provenance": [],
      "collapsed_sections": [],
      "include_colab_link": true
    },
    "kernelspec": {
      "display_name": "Python 3",
      "language": "python",
      "name": "python3"
    },
    "language_info": {
      "codemirror_mode": {
        "name": "ipython",
        "version": 3
      },
      "file_extension": ".py",
      "mimetype": "text/x-python",
      "name": "python",
      "nbconvert_exporter": "python",
      "pygments_lexer": "ipython3",
      "version": "3.7.4"
    }
  },
  "cells": [
    {
      "cell_type": "markdown",
      "metadata": {
        "id": "view-in-github",
        "colab_type": "text"
      },
      "source": [
        "<a href=\"https://colab.research.google.com/github/kana1017/m_INFO5731_Fall2020/blob/master/In_class_exercise/In_class_exercise_01.ipynb\" target=\"_parent\"><img src=\"https://colab.research.google.com/assets/colab-badge.svg\" alt=\"Open In Colab\"/></a>"
      ]
    },
    {
      "cell_type": "markdown",
      "metadata": {
        "colab_type": "text",
        "id": "DymRJbxDBCnf"
      },
      "source": [
        "# **The first In-class-exercise (9/2/2020, 20 points in total)**"
      ]
    },
    {
      "cell_type": "markdown",
      "metadata": {
        "colab_type": "text",
        "id": "03jb4GZsBkBS"
      },
      "source": [
        "(1) Write a Python program to calculate the length of a string. (2 points)"
      ]
    },
    {
      "cell_type": "code",
      "metadata": {
        "colab_type": "code",
        "id": "YaGLbSHHB8Ej",
        "colab": {
          "base_uri": "https://localhost:8080/",
          "height": 50
        },
        "outputId": "d4693282-b9fe-42d6-93e7-a636514dbf7a"
      },
      "source": [
        "# write your answer here\n",
        "x = len(\"How are you?\")\n",
        "\n",
        "print(x)\n",
        "\n",
        "def string_length(str1):\n",
        "    count = 0\n",
        "    for char in str1:\n",
        "        count += 1\n",
        "    return count\n",
        "print(string_length('w3resource.com'))\n"
      ],
      "execution_count": 1,
      "outputs": [
        {
          "output_type": "stream",
          "text": [
            "12\n",
            "14\n"
          ],
          "name": "stdout"
        }
      ]
    },
    {
      "cell_type": "markdown",
      "metadata": {
        "colab_type": "text",
        "id": "jJDe71iLB616"
      },
      "source": [
        "(2) Write a Python program to count the number of characters in a string. (2 points)\n",
        "\n",
        "Sample String : 'google.com‘, \n",
        "\n",
        "Expected Result : {'o': 3, 'g': 2, '.': 1, 'e': 1, 'l': 1, 'm': 1, 'c': 1}"
      ]
    },
    {
      "cell_type": "code",
      "metadata": {
        "colab_type": "code",
        "id": "MtKskTzbCLaU",
        "colab": {
          "base_uri": "https://localhost:8080/",
          "height": 34
        },
        "outputId": "1e55998c-2244-47c7-adfc-d59c08dac51b"
      },
      "source": [
        "# write your answer here\n",
        "import operator\n",
        "\n",
        "def stringToDict(str1):\n",
        "  str_dict = dict()\n",
        "  for i in str1:\n",
        "    count = 0\n",
        "    for s in str1:\n",
        "      if i == s:\n",
        "        count += 1\n",
        "    str_dict[i] = count\n",
        "  sorted_d = dict( sorted(str_dict.items(), key=operator.itemgetter(1),reverse=True))\n",
        "  return sorted_d\n",
        "\n",
        "# Declaring an input string and calling above function\n",
        "string = \"google.com\"\n",
        "print(\"Expected Result:\", stringToDict(string))\n",
        "\n"
      ],
      "execution_count": 2,
      "outputs": [
        {
          "output_type": "stream",
          "text": [
            "Expected Result: {'o': 3, 'g': 2, 'l': 1, 'e': 1, '.': 1, 'c': 1, 'm': 1}\n"
          ],
          "name": "stdout"
        }
      ]
    },
    {
      "cell_type": "markdown",
      "metadata": {
        "colab_type": "text",
        "id": "55W9AMdXCSpV"
      },
      "source": [
        "(3) Write a Python program to sum all the items in a list. (2 points)"
      ]
    },
    {
      "cell_type": "code",
      "metadata": {
        "colab_type": "code",
        "id": "I57NXsauCec2",
        "colab": {
          "base_uri": "https://localhost:8080/",
          "height": 50
        },
        "outputId": "380acffc-ef9f-49c5-efcf-15f5f59d36ad"
      },
      "source": [
        "# write your answer here\n",
        "a=[1,2,4,4,5,7,8,9,10,11]\n",
        "x=sum(a)\n",
        "print(x)\n",
        "\n",
        "\n",
        "def sum_list(items):  \n",
        "    sum_numbers = 0  \n",
        "    for x in items:  \n",
        "        sum_numbers += x  \n",
        "    return sum_numbers  \n",
        "print(sum_list([1,2,-8]))\n"
      ],
      "execution_count": 3,
      "outputs": [
        {
          "output_type": "stream",
          "text": [
            "61\n",
            "-5\n"
          ],
          "name": "stdout"
        }
      ]
    },
    {
      "cell_type": "markdown",
      "metadata": {
        "colab_type": "text",
        "id": "4ulBZ6yhCi9F"
      },
      "source": [
        "(4) Write a Python program to get a string from a given string where all occurrences of its first char have been changed to '\\$', except the first char itself. (2 points)\n",
        "\n",
        "Sample String : 'restart‘, \n",
        "\n",
        "Expected Result : 'resta\\$t'"
      ]
    },
    {
      "cell_type": "code",
      "metadata": {
        "colab_type": "code",
        "id": "Fj0XhwbBCw2o",
        "colab": {
          "base_uri": "https://localhost:8080/",
          "height": 34
        },
        "outputId": "70182271-95b3-4412-f72b-9ab370d45c56"
      },
      "source": [
        "# write your answer here\n",
        "def change_char(str1):  \n",
        "  char = str1[0]  \n",
        "  length = len(str1)  \n",
        "  str1 = str1.replace(char, '$')  \n",
        "  str1 = char + str1[1:]  \n",
        "  \n",
        "  return str1  \n",
        "  \n",
        "print(change_char('restart'))\n"
      ],
      "execution_count": 4,
      "outputs": [
        {
          "output_type": "stream",
          "text": [
            "resta$t\n"
          ],
          "name": "stdout"
        }
      ]
    },
    {
      "cell_type": "markdown",
      "metadata": {
        "colab_type": "text",
        "id": "_bIP7s1MCzue"
      },
      "source": [
        "(5) Write a program with python which could accept two parameter a and b to calculate and output the result of S, where \n",
        "\n",
        "$\\ S=3.14*(1+a/b)^3$ (3 points)\n",
        "\n"
      ]
    },
    {
      "cell_type": "code",
      "metadata": {
        "colab_type": "code",
        "id": "w79QilHXD3Mg",
        "colab": {
          "base_uri": "https://localhost:8080/",
          "height": 67
        },
        "outputId": "a1c069c3-e9b9-4098-ce22-dd8789608df6"
      },
      "source": [
        "# write your answer here\n",
        "\n",
        "# Using funtion to throw 'Divide by Zero' error\n",
        "def error(error_desc):\n",
        "  print(error_desc)\n",
        "  return\n",
        "\n",
        "# Using funtion to accept two parameters to calculate the given output\n",
        "def calculate_S(a, b):\n",
        "  if b == 0:\n",
        "    error(\"Runtime Error: Attempt to divide by zero\")\n",
        "  return 3.14 * (1 + a/b)**3\n",
        "\n",
        "#intializing a & b variables through keyboard input\n",
        "parameter_a = int(input(\"Please enter a value for a : \"))\n",
        "parameter_b = int(input(\"Please enter a value for b : \"))\n",
        "\n",
        "#Calling the above functions and printing results \n",
        "print(\" Expected result : \", calculate_S(parameter_a, parameter_b))\n"
      ],
      "execution_count": 5,
      "outputs": [
        {
          "output_type": "stream",
          "text": [
            "Please enter a value for a : 5\n",
            "Please enter a value for b : 6\n",
            " Expected result :  19.3487962962963\n"
          ],
          "name": "stdout"
        }
      ]
    },
    {
      "cell_type": "markdown",
      "metadata": {
        "colab_type": "text",
        "id": "xCa2bK9aD4Q3"
      },
      "source": [
        "(6) Write a Python program to concatenate following dictionaries to create a new one. (3 points)\n",
        "\n",
        "Sample Dictionary : dic1={1:10, 2:20}, dic2={3:30, 4:40}, dic3={5:50,6:60}, \n",
        "\n",
        "Expected Result : {1: 10, 2: 20, 3: 30, 4: 40, 5: 50, 6: 60}\n"
      ]
    },
    {
      "cell_type": "code",
      "metadata": {
        "colab_type": "code",
        "id": "_z4aLqAbEET1",
        "colab": {
          "base_uri": "https://localhost:8080/",
          "height": 34
        },
        "outputId": "b3d9f652-61cf-4a51-a9aa-09de64e875af"
      },
      "source": [
        "# write your answer here\n",
        "dic1={1:10,2:20}\n",
        "dic2={3:30,4:40}\n",
        "dic3={5:50,6:60}\n",
        "x = [dic1,dic2,dic3]\n",
        "list (x)\n",
        "\n",
        "dic1={1:10, 2:20}  \n",
        "dic2={3:30, 4:40}  \n",
        "dic3={5:50,6:60}  \n",
        "dic4 = {}  \n",
        "for d in (dic1, dic2, dic3): dic4.update(d)  \n",
        "print(dic4)\n"
      ],
      "execution_count": 11,
      "outputs": [
        {
          "output_type": "stream",
          "text": [
            "{1: 10, 2: 20, 3: 30, 4: 40, 5: 50, 6: 60}\n"
          ],
          "name": "stdout"
        }
      ]
    },
    {
      "cell_type": "markdown",
      "metadata": {
        "colab_type": "text",
        "id": "0v48Vqa7FrQh"
      },
      "source": [
        "(7) Write a Python program to check whether an element exists within a tuple. (3 points)"
      ]
    },
    {
      "cell_type": "code",
      "metadata": {
        "colab_type": "code",
        "id": "7WEmgq-DF2P1",
        "colab": {
          "base_uri": "https://localhost:8080/",
          "height": 67
        },
        "outputId": "f2842202-65d9-4ba9-8636-0da54e1f89c7"
      },
      "source": [
        "# write your answer here\n",
        "thistuple = (\"apple\", \"banana\", \"cherry\")\n",
        "if \"apple\" in thistuple:\n",
        "  print(\"Yes, 'apple' is in the fruits tuple\")\n",
        "\n",
        "  tuplex = (\"w\", 3, \"r\", \"e\", \"s\", \"o\", \"u\", \"r\", \"c\", \"e\")\n",
        "print(\"r\" in tuplex)\n",
        "print(5 in tuplex)\n"
      ],
      "execution_count": 12,
      "outputs": [
        {
          "output_type": "stream",
          "text": [
            "Yes, 'apple' is in the fruits tuple\n",
            "True\n",
            "False\n"
          ],
          "name": "stdout"
        }
      ]
    },
    {
      "cell_type": "markdown",
      "metadata": {
        "colab_type": "text",
        "id": "vD5PYLMuGga_"
      },
      "source": [
        "(8) Write a Python program to find maximum and the minimum value in a set. (3 points)"
      ]
    },
    {
      "cell_type": "code",
      "metadata": {
        "colab_type": "code",
        "id": "t0D5kdJUGjjw",
        "colab": {
          "base_uri": "https://localhost:8080/",
          "height": 50
        },
        "outputId": "2e771bcb-4938-4fa4-9ec1-ad6d500ef8ec"
      },
      "source": [
        "# write your answer here\n",
        "#Create a set\n",
        "seta = set([5, 10, 3, 15, 2, 20])\n",
        "#Find maximum value\n",
        "print(max(seta))\n",
        "#Find minimum value\n",
        "print(min(seta))"
      ],
      "execution_count": 13,
      "outputs": [
        {
          "output_type": "stream",
          "text": [
            "20\n",
            "2\n"
          ],
          "name": "stdout"
        }
      ]
    },
    {
      "cell_type": "markdown",
      "metadata": {
        "colab_type": "text",
        "id": "uHkd-y5VhVWC"
      },
      "source": [
        "(9) Write a Python program to randomly divide the students in this class into five groups for term projects, each group should have at least 3 students but no more than 5 students (including 5). Here is the students list: (3 points for extra)\n",
        "\n",
        "studnet_list = ['vmb0067','pc0353','snd0097','yye0005','sg0940','bk0301','rak0120','rrk0058','spk0057','vl0135','nm0547','pn0159',\n",
        "                'msp0174','dd0420','ds0761','rs0850','ss1995','at0739','at0768','mv0299','tv0119','dy0091']"
      ]
    },
    {
      "cell_type": "code",
      "metadata": {
        "colab_type": "code",
        "id": "3iGbmcOBhTwy",
        "colab": {
          "base_uri": "https://localhost:8080/",
          "height": 118
        },
        "outputId": "76504708-043f-485e-f569-ec796c56e690"
      },
      "source": [
        "# write your answer here\n",
        "import random\n",
        "#sampling with replacement\n",
        "studnet_list = ['vmb0067','pc0353','snd0097','yye0005','sg0940','bk0301','rak0120','rrk0058',\n",
        "                'spk0057','vl0135','nm0547','pn0159', 'msp0174','dd0420','ds0761','rs0850',\n",
        "                'ss1995','at0739','at0768','mv0299','tv0119','dy0091']\n",
        "group_size = []\n",
        "for i in range(5):\n",
        "    group_size.append(random.randint(3,5))\n",
        "\n",
        "# make sure that the sum of the group size is 22\n",
        "if sum(group_size) == len(studnet_list):\n",
        "    print(group_size)\n",
        "    for j in range(5):\n",
        "      sampling = random.sample(studnet_list,group_size[j-1])\n",
        "      studnet_list = [j for j in studnet_list if j not in sampling]\n",
        "      print(\"Group \" +str(j+1)+\": \", sampling)\n",
        "      "
      ],
      "execution_count": 23,
      "outputs": [
        {
          "output_type": "stream",
          "text": [
            "[5, 3, 5, 5, 4]\n",
            "Group 1:  ['at0739', 'rs0850', 'nm0547', 'ds0761']\n",
            "Group 2:  ['pn0159', 'spk0057', 'rrk0058', 'vl0135', 'dd0420']\n",
            "Group 3:  ['pc0353', 'tv0119', 'msp0174']\n",
            "Group 4:  ['yye0005', 'vmb0067', 'snd0097', 'ss1995', 'rak0120']\n",
            "Group 5:  ['sg0940', 'mv0299', 'dy0091', 'at0768', 'bk0301']\n"
          ],
          "name": "stdout"
        }
      ]
    }
  ]
}